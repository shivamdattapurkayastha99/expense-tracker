{
 "cells": [
  {
   "cell_type": "code",
   "execution_count": 2,
   "id": "981f42be",
   "metadata": {},
   "outputs": [],
   "source": [
    "import numpy as np\n",
    "import pandas as pd\n",
    "from datetime import date\n"
   ]
  },
  {
   "cell_type": "code",
   "execution_count": 4,
   "id": "5f4d058b",
   "metadata": {},
   "outputs": [],
   "source": [
    "GOODS_OR_SERVICES=[]\n",
    "PRICES=[]\n",
    "DATES=[]\n",
    "EXPENSE_TYPES=[]\n"
   ]
  },
  {
   "cell_type": "code",
   "execution_count": 5,
   "id": "869e61f5",
   "metadata": {},
   "outputs": [],
   "source": [
    "def add_expense(good_or_service,price,date,expense_type):\n",
    "    GOODS_OR_SERVICES.append(good_or_service)\n",
    "    PRICES.append(price)\n",
    "    DATES.append(date)\n",
    "    EXPENSE_TYPES.append(expense_type)\n",
    "    "
   ]
  },
  {
   "cell_type": "code",
   "execution_count": 7,
   "id": "13e606b2",
   "metadata": {},
   "outputs": [
    {
     "name": "stdout",
     "output_type": "stream",
     "text": [
      "Welcome to shivam expense tracker\n",
      "1.Add Food Expense\n",
      "2.Add Household Expense\n",
      "3.Add transportation Expense\n",
      "4.Show and save the expense report\n",
      "0.Exit\n",
      "Choose an option \n",
      "1\n",
      "\n",
      "Adding food\n",
      "Enter good or service for the expense type FOOD\n",
      "pizza\n",
      "Enter price for the good or service\n",
      "10\n",
      "\n",
      "Welcome to shivam expense tracker\n",
      "1.Add Food Expense\n",
      "2.Add Household Expense\n",
      "3.Add transportation Expense\n",
      "4.Show and save the expense report\n",
      "0.Exit\n",
      "Choose an option \n",
      "2\n",
      "\n",
      "Adding household\n",
      "Enter good or service for the expense type HOUSEHOLD\n",
      "2bhk\n",
      "Enter price for the good or service\n",
      "300\n",
      "\n",
      "Welcome to shivam expense tracker\n",
      "1.Add Food Expense\n",
      "2.Add Household Expense\n",
      "3.Add transportation Expense\n",
      "4.Show and save the expense report\n",
      "0.Exit\n",
      "Choose an option \n",
      "0\n",
      "\n",
      "Exit the program\n"
     ]
    }
   ],
   "source": [
    "option=-1\n",
    "while option!=0:\n",
    "    print('Welcome to shivam expense tracker')\n",
    "    print('1.Add Food Expense')\n",
    "    print('2.Add Household Expense')\n",
    "    print('3.Add transportation Expense')\n",
    "    print('4.Show and save the expense report')\n",
    "    print('0.Exit')\n",
    "    option=int(input('Choose an option \\n'))\n",
    "    print()\n",
    "    if option==0:\n",
    "        print('Exit the program')\n",
    "        break\n",
    "    elif option==1:\n",
    "        print('Adding food')\n",
    "        expense_type='FOOD'\n",
    "    elif option==2:\n",
    "        print('Adding household')\n",
    "        expense_type='HOUSEHOLD'\n",
    "    elif option==3:\n",
    "        print('Adding transportation')\n",
    "        expense_type='TRANSPORTATION'\n",
    "    elif option==4:\n",
    "        expense_report=pd.DataFrame()\n",
    "        expense_report['GOODS_OR_SERVICES']=GOODS_OR_SERVICES\n",
    "        expense_report['PRICES']=PRICES\n",
    "        expense_report['DATES']=DATES\n",
    "        expense_report['EXPENSE_TYPES']=EXPENSE_TYPES\n",
    "        expense_report.to_csv('expenses.csv')\n",
    "        print(expense_report)\n",
    "    else:\n",
    "        print('incorrect option')\n",
    "    if option==1 or option==2 or option==3:\n",
    "        good_or_service=input('Enter good or service for the expense type '+expense_type+'\\n')\n",
    "        price=float(input('Enter price for the good or service\\n'))\n",
    "        today=date.today()\n",
    "        add_expense(good_or_service,price,today,expense_type)\n",
    "    print()\n",
    "        \n",
    "        \n",
    "        \n",
    "        \n",
    "        \n",
    "        \n",
    "        \n",
    "    \n",
    "    \n",
    "    "
   ]
  },
  {
   "cell_type": "code",
   "execution_count": null,
   "id": "cc7dd29d",
   "metadata": {},
   "outputs": [],
   "source": []
  }
 ],
 "metadata": {
  "kernelspec": {
   "display_name": "Python 3 (ipykernel)",
   "language": "python",
   "name": "python3"
  },
  "language_info": {
   "codemirror_mode": {
    "name": "ipython",
    "version": 3
   },
   "file_extension": ".py",
   "mimetype": "text/x-python",
   "name": "python",
   "nbconvert_exporter": "python",
   "pygments_lexer": "ipython3",
   "version": "3.10.4"
  }
 },
 "nbformat": 4,
 "nbformat_minor": 5
}
